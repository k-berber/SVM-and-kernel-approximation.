{
 "cells": [
  {
   "cell_type": "markdown",
   "metadata": {},
   "source": [
    "Бербер Кирилл, 317 группа "
   ]
  },
  {
   "cell_type": "markdown",
   "metadata": {},
   "source": [
    "# Машинное обучение, ВМК МГУ #\n"
   ]
  },
  {
   "cell_type": "markdown",
   "metadata": {},
   "source": [
    "## Практическое задание 1. Метод опорных векторов и аппроксимация ядер##\n",
    "Общая информация\n",
    "Дата выдачи: 23:59 MSK 05.03.2021\n",
    "\n",
    "Мягкий дедлайн: 23:59MSK 19.03.2021 **(за каждый день просрочки снимается 1 балл)**\n",
    "\n",
    "Жесткий дедлайн: 23:59MSK 26.03.2021\n",
    "\n",
    "**Оценивание и штрафы** \n",
    "Каждая из задач имеет определенную «стоимость» (указана в скобках около задачи). Максимальная оценка за работу (без учёта бонусов) — **10 баллов**.\n",
    "\n",
    "Сдавать задание после указанного жёсткого срока сдачи нельзя. При выставлении неполного балла за задание в связи с наличием ошибок на усмотрение проверяющего предусмотрена возможность исправить работу на указанных в ответном письме условиях.\n",
    "\n",
    "Задание выполняется самостоятельно. «Похожие» решения считаются плагиатом и все задействованные студенты (в том числе те, у кого списали) не могут получить за него больше 0 баллов (подробнее о плагиате см. на странице курса). Если вы нашли решение какого-то из заданий (или его часть) в открытом источнике, необходимо указать ссылку на этот источник в отдельном блоке в конце вашей работы (скорее всего вы будете не единственным, кто это нашел, поэтому чтобы исключить подозрение в плагиате, необходима ссылка на источник).\n",
    "\n",
    "Неэффективная реализация кода может негативно отразиться на оценке."
   ]
  },
  {
   "cell_type": "markdown",
   "metadata": {},
   "source": [
    "## Формат сдачи ##\n",
    "Задания сдаются через систему anytask. Посылка должна содержать:\n",
    "\n",
    "Ноутбук homework-practice-01-random-features-Username.ipynb\n",
    "Username — ваша фамилия и имя на латинице именно в таком порядке\n",
    "\n",
    "Напоминание об оформлении и выполнении ноутбука\n",
    "\n",
    "* Все строчки должны быть выполнены. Нужно, чтобы output команды можно было увидеть, не запуская ячейки (кроме редких случаев, когда необходимо намеренно скрыть ненужный output, про такие случаи желательно писать пояснения в тексте). **В противном случае -1 балл**\n",
    "\n",
    "* При оформлении ДЗ нужно пользоваться данным файлом в качестве шаблона. Не нужно удалять и видоизменять написанный код и текст, если явно не указана такая возможность. В противном случае **-1 балл**\n",
    "\n",
    "* В anytask обязательно нужно прикреплять отдельно файл с расширением ipynb (не в архиве, а именно отдельно). Если необходимо отправить еще какие-то файлы, то вынесите их в отдельный архив (если файлов много) и пришлите. В противном случае **-0.5 балла**\n",
    "_________________________________________________________________________________________________________________\n",
    "* Пишите, пожалуйста, выводы и ответы на вопросы в текстовых ячейках/при помощи print в коде. При их отсутствии мы не можем понять, сделали ли вы задание и понимаете, что происходит, и поэтому будем снижать баллы\n",
    "\n",
    "* Если алгоритм не сказано реализовывать явно, его всегда можно импортировать из библиотеки.\n",
    "__________________________________________________________________________________________________________________\n",
    "\n",
    "* Про графики. Штрафы будут применяться к каждому результату команды отображения графика (plt.show() и др. аналогичные). Исключением являются графики, генерируемые функциями каких-либо сторонних библиотек, если их нельзя кастомизировать\n",
    "\n",
    "* должно быть название (plt.title) графика; В противном случае – -0.05 балла\n",
    "\n",
    "* на графиках должны быть подписаны оси (plt.xlabel, plt.ylabel); В противном случае – -0.025 балла за каждую ось\n",
    "\n",
    "* должны быть подписаны единицы измерения (если это возможно); В противном случае – -0.025 балла за каждую ось\n",
    "\n",
    "* все названия должны быть понятны любому человеку, знакомому с терминологией, без заглядывания в код; В противном случае – -0.05 балла\n",
    "\n",
    "* подписи тиков на осях не должны сливаться как на одной оси, так и между ними; В противном случае – -0.025 балла за каждую ось\n",
    "\n",
    "* если изображено несколько сущностей на одном холсте (например несколько функций), то необходима поясняющая легенда (plt.legend); В противном случае – -0.05 балла\n",
    "\n",
    "* все линии на графиках должны быть чётко видны (нет похожих цветов или цветов, сливающихся с фоном); В противном случае – -0.05 балла\n",
    "\n",
    "* если отображена величина, имеющая очевидный диапазон значений (например, проценты могут быть от 0 до 100), то желательно масштабировать ось на весь диапазон значений (исключением является случай, когда вам необходимо показать малое отличие, которое незаметно в таких масштабах);\n",
    "\n",
    "* графики должны быть не супер-микро и не супер-макро по размерам, так, чтобы можно было увидеть все, что нужно.\n",
    "\n",
    "* при необходимости улучшения наглядности графиков, можно пользоваться логарифмической шкалой по осям x/y."
   ]
  },
  {
   "cell_type": "markdown",
   "metadata": {},
   "source": [
    "## О задании## \n",
    "На занятиях мы подробно обсуждали метод опорных векторов (SVM). В базовой версии в нём нет чего-то особенного — мы всего лишь используем специальную функцию потерь, которая не требует устремлять отступы к бесконечности; ей достаточно, чтобы отступы были не меньше +1. Затем мы узнали, что SVM можно переписать в двойственном виде, который, позволяет заменить скалярные произведения объектов на ядра. Это будет соответствовать построению модели в новом пространстве более высокой размерности, координаты которого представляют собой нелинейные модификации исходных признаков.\n",
    "\n",
    "Ядровой SVM, к сожалению, довольно затратен по памяти (нужно хранить матрицу Грама размера $d \\times d$) и по времени (нужно решать задачу условной оптимизации с квадратичной функцией, а это не очень быстро). Мы обсуждали, что есть способы посчитать новые признаки $\\tilde \\varphi(x)$ на основе исходных так, что скалярные произведения этих новых $\\langle \\tilde \\varphi(x), \\tilde \\varphi(z) \\rangle$ приближают ядро $K(x, z)$.\n",
    "\n",
    "Мы будем исследовать аппроксимации методом Random Fourier Features (RFF, также в литературе встречается название Random Kitchen Sinks) для гауссовых ядер. Будем использовать формулы, которые немного отличаются от того, что было на лекциях (мы добавим сдвиги внутрь тригонометрических функций и будем использовать только косинусы, потому что с нужным сдвигом косинус превратится в синус):$$\\tilde \\varphi(x) = (\n",
    "\\cos (w_1^T x + b_1),\n",
    "\\dots,\n",
    "\\cos (w_n^T x + b_n)\n",
    "),$$где $w_j \\sim \\mathcal{N}(0, 1/\\sigma^2)$, $b_j \\sim U[-\\pi, \\pi]$.\n",
    "\n",
    "На новых признаках $\\tilde \\varphi(x)$ мы будем строить любую линейную модель.\n",
    "\n",
    "Можно считать, что это некоторая новая парадигма построения сложных моделей. Можно направленно искать сложные нелинейные закономерности в данных с помощью градиентного бустинга или нейронных сетей, а можно просто нагенерировать большое количество случайных нелинейных признаков и надеяться, что быстрая и простая модель (то есть линейная) сможет показать на них хорошее качество. В этом задании мы изучим, насколько работоспособна такая идея."
   ]
  },
  {
   "cell_type": "markdown",
   "metadata": {},
   "source": [
    "## Алгоритм ##\n",
    "Вам потребуется реализовать следующий алгоритм:\n",
    "\n",
    "1. Понизить размерность выборки до new_dim с помощью метода главных компонент.\n",
    "\n",
    "2. Для полученной выборки оценить гиперпараметр $\\sigma^2$ с помощью эвристики (рекомендуем считать медиану не по всем парам объектов, а по случайному подмножеству из где-то миллиона пар объектов):$$\\sigma^2 = \\text{median}_{i, j = 1, \\dots, \\ell, i \\neq j} \\left\\{\\sum_{k = 1}^{d} (x_{ik} - x_{jk})^2 \\right\\}$$ **Замечание:** обратите внимание на $i \\neq j$, без этого оценка медианы может быть смещена, а также без этого будут сниматься баллы.\n",
    "\n",
    "3. Сгенерировать n_features наборов весов $w_j$ и сдвигов $b_j$.\n",
    "\n",
    "4. Сформировать n_features новых признаков по формулам, приведённым выше.\n",
    "\n",
    "5. Обучить линейную модель (логистическую регрессию или SVM) на новых признаках.\n",
    "\n",
    "6. Повторить преобразования (PCA, формирование новых признаков) к тестовой выборке и применить модель.\n",
    "\n",
    "7. Тестировать алгоритм мы будем на данных Fashion MNIST. Ниже код для их загрузки и подготовки."
   ]
  },
  {
   "cell_type": "code",
   "execution_count": 8,
   "metadata": {},
   "outputs": [
    {
     "name": "stdout",
     "output_type": "stream",
     "text": [
      "Requirement already up-to-date: tensorflow in c:\\users\\user\\anaconda3\\lib\\site-packages (2.4.1)\n",
      "Requirement already satisfied, skipping upgrade: astunparse~=1.6.3 in c:\\users\\user\\anaconda3\\lib\\site-packages (from tensorflow) (1.6.3)\n",
      "Requirement already satisfied, skipping upgrade: numpy~=1.19.2 in c:\\users\\user\\anaconda3\\lib\\site-packages (from tensorflow) (1.19.5)\n",
      "Requirement already satisfied, skipping upgrade: typing-extensions~=3.7.4 in c:\\users\\user\\anaconda3\\lib\\site-packages (from tensorflow) (3.7.4.2)\n",
      "Requirement already satisfied, skipping upgrade: wheel~=0.35 in c:\\users\\user\\anaconda3\\lib\\site-packages (from tensorflow) (0.36.2)\n",
      "Requirement already satisfied, skipping upgrade: termcolor~=1.1.0 in c:\\users\\user\\anaconda3\\lib\\site-packages (from tensorflow) (1.1.0)\n",
      "Requirement already satisfied, skipping upgrade: six~=1.15.0 in c:\\users\\user\\anaconda3\\lib\\site-packages (from tensorflow) (1.15.0)\n",
      "Requirement already satisfied, skipping upgrade: absl-py~=0.10 in c:\\users\\user\\anaconda3\\lib\\site-packages (from tensorflow) (0.12.0)\n",
      "Requirement already satisfied, skipping upgrade: keras-preprocessing~=1.1.2 in c:\\users\\user\\anaconda3\\lib\\site-packages (from tensorflow) (1.1.2)\n",
      "Requirement already satisfied, skipping upgrade: opt-einsum~=3.3.0 in c:\\users\\user\\anaconda3\\lib\\site-packages (from tensorflow) (3.3.0)\n",
      "Requirement already satisfied, skipping upgrade: grpcio~=1.32.0 in c:\\users\\user\\anaconda3\\lib\\site-packages (from tensorflow) (1.32.0)\n",
      "Requirement already satisfied, skipping upgrade: google-pasta~=0.2 in c:\\users\\user\\anaconda3\\lib\\site-packages (from tensorflow) (0.2.0)\n",
      "Requirement already satisfied, skipping upgrade: gast==0.3.3 in c:\\users\\user\\anaconda3\\lib\\site-packages (from tensorflow) (0.3.3)\n",
      "Requirement already satisfied, skipping upgrade: wrapt~=1.12.1 in c:\\users\\user\\anaconda3\\lib\\site-packages (from tensorflow) (1.12.1)\n",
      "Requirement already satisfied, skipping upgrade: h5py~=2.10.0 in c:\\users\\user\\anaconda3\\lib\\site-packages (from tensorflow) (2.10.0)\n",
      "Requirement already satisfied, skipping upgrade: tensorboard~=2.4 in c:\\users\\user\\anaconda3\\lib\\site-packages (from tensorflow) (2.4.1)\n",
      "Requirement already satisfied, skipping upgrade: protobuf>=3.9.2 in c:\\users\\user\\anaconda3\\lib\\site-packages (from tensorflow) (3.15.6)\n",
      "Requirement already satisfied, skipping upgrade: flatbuffers~=1.12.0 in c:\\users\\user\\anaconda3\\lib\\site-packages (from tensorflow) (1.12)\n",
      "Requirement already satisfied, skipping upgrade: tensorflow-estimator<2.5.0,>=2.4.0 in c:\\users\\user\\anaconda3\\lib\\site-packages (from tensorflow) (2.4.0)\n",
      "Requirement already satisfied, skipping upgrade: werkzeug>=0.11.15 in c:\\users\\user\\anaconda3\\lib\\site-packages (from tensorboard~=2.4->tensorflow) (1.0.1)\n",
      "Requirement already satisfied, skipping upgrade: google-auth-oauthlib<0.5,>=0.4.1 in c:\\users\\user\\anaconda3\\lib\\site-packages (from tensorboard~=2.4->tensorflow) (0.4.3)\n",
      "Requirement already satisfied, skipping upgrade: tensorboard-plugin-wit>=1.6.0 in c:\\users\\user\\anaconda3\\lib\\site-packages (from tensorboard~=2.4->tensorflow) (1.8.0)\n",
      "Requirement already satisfied, skipping upgrade: markdown>=2.6.8 in c:\\users\\user\\anaconda3\\lib\\site-packages (from tensorboard~=2.4->tensorflow) (3.3.4)\n",
      "Requirement already satisfied, skipping upgrade: setuptools>=41.0.0 in c:\\users\\user\\anaconda3\\lib\\site-packages (from tensorboard~=2.4->tensorflow) (49.2.0.post20200714)\n",
      "Requirement already satisfied, skipping upgrade: requests<3,>=2.21.0 in c:\\users\\user\\anaconda3\\lib\\site-packages (from tensorboard~=2.4->tensorflow) (2.24.0)\n",
      "Requirement already satisfied, skipping upgrade: google-auth<2,>=1.6.3 in c:\\users\\user\\anaconda3\\lib\\site-packages (from tensorboard~=2.4->tensorflow) (1.28.0)\n",
      "Requirement already satisfied, skipping upgrade: requests-oauthlib>=0.7.0 in c:\\users\\user\\anaconda3\\lib\\site-packages (from google-auth-oauthlib<0.5,>=0.4.1->tensorboard~=2.4->tensorflow) (1.3.0)\n",
      "Requirement already satisfied, skipping upgrade: idna<3,>=2.5 in c:\\users\\user\\anaconda3\\lib\\site-packages (from requests<3,>=2.21.0->tensorboard~=2.4->tensorflow) (2.10)\n",
      "Requirement already satisfied, skipping upgrade: urllib3!=1.25.0,!=1.25.1,<1.26,>=1.21.1 in c:\\users\\user\\anaconda3\\lib\\site-packages (from requests<3,>=2.21.0->tensorboard~=2.4->tensorflow) (1.25.9)\n",
      "Requirement already satisfied, skipping upgrade: certifi>=2017.4.17 in c:\\users\\user\\anaconda3\\lib\\site-packages (from requests<3,>=2.21.0->tensorboard~=2.4->tensorflow) (2020.6.20)\n",
      "Requirement already satisfied, skipping upgrade: chardet<4,>=3.0.2 in c:\\users\\user\\anaconda3\\lib\\site-packages (from requests<3,>=2.21.0->tensorboard~=2.4->tensorflow) (3.0.4)\n",
      "Requirement already satisfied, skipping upgrade: pyasn1-modules>=0.2.1 in c:\\users\\user\\anaconda3\\lib\\site-packages (from google-auth<2,>=1.6.3->tensorboard~=2.4->tensorflow) (0.2.8)\n",
      "Requirement already satisfied, skipping upgrade: cachetools<5.0,>=2.0.0 in c:\\users\\user\\anaconda3\\lib\\site-packages (from google-auth<2,>=1.6.3->tensorboard~=2.4->tensorflow) (4.2.1)\n",
      "Requirement already satisfied, skipping upgrade: rsa<5,>=3.1.4; python_version >= \"3.6\" in c:\\users\\user\\anaconda3\\lib\\site-packages (from google-auth<2,>=1.6.3->tensorboard~=2.4->tensorflow) (4.7.2)\n",
      "Requirement already satisfied, skipping upgrade: oauthlib>=3.0.0 in c:\\users\\user\\anaconda3\\lib\\site-packages (from requests-oauthlib>=0.7.0->google-auth-oauthlib<0.5,>=0.4.1->tensorboard~=2.4->tensorflow) (3.1.0)\n",
      "Requirement already satisfied, skipping upgrade: pyasn1<0.5.0,>=0.4.6 in c:\\users\\user\\anaconda3\\lib\\site-packages (from pyasn1-modules>=0.2.1->google-auth<2,>=1.6.3->tensorboard~=2.4->tensorflow) (0.4.8)\n",
      "Note: you may need to restart the kernel to use updated packages.\n"
     ]
    }
   ],
   "source": [
    "pip install --upgrade tensorflow"
   ]
  },
  {
   "cell_type": "code",
   "execution_count": 10,
   "metadata": {},
   "outputs": [
    {
     "name": "stdout",
     "output_type": "stream",
     "text": [
      "^C\n",
      "\n",
      "Note: you may need to restart the kernel to use updated packages.\n"
     ]
    }
   ],
   "source": [
    "conda install tensorflow-gpu"
   ]
  },
  {
   "cell_type": "code",
   "execution_count": 1,
   "metadata": {},
   "outputs": [
    {
     "data": {
      "text/plain": [
       "'C:\\\\Users\\\\User\\\\anaconda3\\\\python.exe'"
      ]
     },
     "execution_count": 1,
     "metadata": {},
     "output_type": "execute_result"
    }
   ],
   "source": [
    "import sys\n",
    "\n",
    "sys.path\n",
    "\n",
    "sys.executable"
   ]
  },
  {
   "cell_type": "code",
   "execution_count": 5,
   "metadata": {},
   "outputs": [
    {
     "name": "stdout",
     "output_type": "stream",
     "text": [
      "Collecting keras\n",
      "  Using cached Keras-2.4.3-py2.py3-none-any.whl (36 kB)\n",
      "Requirement already satisfied: scipy>=0.14 in c:\\users\\user\\anaconda3\\lib\\site-packages (from keras) (1.5.0)\n",
      "Requirement already satisfied: numpy>=1.9.1 in c:\\users\\user\\anaconda3\\lib\\site-packages (from keras) (1.19.5)\n",
      "Requirement already satisfied: pyyaml in c:\\users\\user\\anaconda3\\lib\\site-packages (from keras) (5.3.1)\n",
      "Requirement already satisfied: h5py in c:\\users\\user\\anaconda3\\lib\\site-packages (from keras) (2.10.0)\n",
      "Requirement already satisfied: six in c:\\users\\user\\anaconda3\\lib\\site-packages (from h5py->keras) (1.15.0)\n",
      "Installing collected packages: keras\n",
      "Successfully installed keras-2.4.3\n",
      "Note: you may need to restart the kernel to use updated packages.\n"
     ]
    }
   ],
   "source": [
    "pip install keras"
   ]
  },
  {
   "cell_type": "code",
   "execution_count": 7,
   "metadata": {},
   "outputs": [
    {
     "name": "stdout",
     "output_type": "stream",
     "text": [
      "^C\n",
      "Note: you may need to restart the kernel to use updated packages.\n"
     ]
    }
   ],
   "source": [
    " pip install --user --upgrade tensorflow-gpu"
   ]
  },
  {
   "cell_type": "code",
   "execution_count": 2,
   "metadata": {},
   "outputs": [],
   "source": [
    "import numpy as np\n",
    "import pandas as pd"
   ]
  },
  {
   "cell_type": "markdown",
   "metadata": {},
   "source": [
    "**из-за проблем с керасом я решил скачать этот датасет и загрузить вручную. С помощью небольших преобразований получить то, что требовалось с помощью from keras.datasets import fashion_mnist**"
   ]
  },
  {
   "cell_type": "code",
   "execution_count": 3,
   "metadata": {},
   "outputs": [],
   "source": [
    "facion_mnist_train = pd.read_csv('fashion-mnist_train.csv', index_col=0)"
   ]
  },
  {
   "cell_type": "code",
   "execution_count": 4,
   "metadata": {},
   "outputs": [],
   "source": [
    "facion_mnist_test = pd.read_csv('fashion-mnist_test.csv', index_col=0)"
   ]
  },
  {
   "cell_type": "code",
   "execution_count": 23,
   "metadata": {},
   "outputs": [
    {
     "data": {
      "text/html": [
       "<div>\n",
       "<style scoped>\n",
       "    .dataframe tbody tr th:only-of-type {\n",
       "        vertical-align: middle;\n",
       "    }\n",
       "\n",
       "    .dataframe tbody tr th {\n",
       "        vertical-align: top;\n",
       "    }\n",
       "\n",
       "    .dataframe thead th {\n",
       "        text-align: right;\n",
       "    }\n",
       "</style>\n",
       "<table border=\"1\" class=\"dataframe\">\n",
       "  <thead>\n",
       "    <tr style=\"text-align: right;\">\n",
       "      <th></th>\n",
       "      <th>pixel1</th>\n",
       "      <th>pixel2</th>\n",
       "      <th>pixel3</th>\n",
       "      <th>pixel4</th>\n",
       "      <th>pixel5</th>\n",
       "      <th>pixel6</th>\n",
       "      <th>pixel7</th>\n",
       "      <th>pixel8</th>\n",
       "      <th>pixel9</th>\n",
       "      <th>pixel10</th>\n",
       "      <th>...</th>\n",
       "      <th>pixel775</th>\n",
       "      <th>pixel776</th>\n",
       "      <th>pixel777</th>\n",
       "      <th>pixel778</th>\n",
       "      <th>pixel779</th>\n",
       "      <th>pixel780</th>\n",
       "      <th>pixel781</th>\n",
       "      <th>pixel782</th>\n",
       "      <th>pixel783</th>\n",
       "      <th>pixel784</th>\n",
       "    </tr>\n",
       "    <tr>\n",
       "      <th>label</th>\n",
       "      <th></th>\n",
       "      <th></th>\n",
       "      <th></th>\n",
       "      <th></th>\n",
       "      <th></th>\n",
       "      <th></th>\n",
       "      <th></th>\n",
       "      <th></th>\n",
       "      <th></th>\n",
       "      <th></th>\n",
       "      <th></th>\n",
       "      <th></th>\n",
       "      <th></th>\n",
       "      <th></th>\n",
       "      <th></th>\n",
       "      <th></th>\n",
       "      <th></th>\n",
       "      <th></th>\n",
       "      <th></th>\n",
       "      <th></th>\n",
       "      <th></th>\n",
       "    </tr>\n",
       "  </thead>\n",
       "  <tbody>\n",
       "    <tr>\n",
       "      <th>2</th>\n",
       "      <td>0</td>\n",
       "      <td>0</td>\n",
       "      <td>0</td>\n",
       "      <td>0</td>\n",
       "      <td>0</td>\n",
       "      <td>0</td>\n",
       "      <td>0</td>\n",
       "      <td>0</td>\n",
       "      <td>0</td>\n",
       "      <td>0</td>\n",
       "      <td>...</td>\n",
       "      <td>0</td>\n",
       "      <td>0</td>\n",
       "      <td>0</td>\n",
       "      <td>0</td>\n",
       "      <td>0</td>\n",
       "      <td>0</td>\n",
       "      <td>0</td>\n",
       "      <td>0</td>\n",
       "      <td>0</td>\n",
       "      <td>0</td>\n",
       "    </tr>\n",
       "    <tr>\n",
       "      <th>9</th>\n",
       "      <td>0</td>\n",
       "      <td>0</td>\n",
       "      <td>0</td>\n",
       "      <td>0</td>\n",
       "      <td>0</td>\n",
       "      <td>0</td>\n",
       "      <td>0</td>\n",
       "      <td>0</td>\n",
       "      <td>0</td>\n",
       "      <td>0</td>\n",
       "      <td>...</td>\n",
       "      <td>0</td>\n",
       "      <td>0</td>\n",
       "      <td>0</td>\n",
       "      <td>0</td>\n",
       "      <td>0</td>\n",
       "      <td>0</td>\n",
       "      <td>0</td>\n",
       "      <td>0</td>\n",
       "      <td>0</td>\n",
       "      <td>0</td>\n",
       "    </tr>\n",
       "    <tr>\n",
       "      <th>6</th>\n",
       "      <td>0</td>\n",
       "      <td>0</td>\n",
       "      <td>0</td>\n",
       "      <td>0</td>\n",
       "      <td>0</td>\n",
       "      <td>0</td>\n",
       "      <td>0</td>\n",
       "      <td>5</td>\n",
       "      <td>0</td>\n",
       "      <td>0</td>\n",
       "      <td>...</td>\n",
       "      <td>0</td>\n",
       "      <td>0</td>\n",
       "      <td>0</td>\n",
       "      <td>30</td>\n",
       "      <td>43</td>\n",
       "      <td>0</td>\n",
       "      <td>0</td>\n",
       "      <td>0</td>\n",
       "      <td>0</td>\n",
       "      <td>0</td>\n",
       "    </tr>\n",
       "    <tr>\n",
       "      <th>0</th>\n",
       "      <td>0</td>\n",
       "      <td>0</td>\n",
       "      <td>0</td>\n",
       "      <td>1</td>\n",
       "      <td>2</td>\n",
       "      <td>0</td>\n",
       "      <td>0</td>\n",
       "      <td>0</td>\n",
       "      <td>0</td>\n",
       "      <td>0</td>\n",
       "      <td>...</td>\n",
       "      <td>3</td>\n",
       "      <td>0</td>\n",
       "      <td>0</td>\n",
       "      <td>0</td>\n",
       "      <td>0</td>\n",
       "      <td>1</td>\n",
       "      <td>0</td>\n",
       "      <td>0</td>\n",
       "      <td>0</td>\n",
       "      <td>0</td>\n",
       "    </tr>\n",
       "    <tr>\n",
       "      <th>3</th>\n",
       "      <td>0</td>\n",
       "      <td>0</td>\n",
       "      <td>0</td>\n",
       "      <td>0</td>\n",
       "      <td>0</td>\n",
       "      <td>0</td>\n",
       "      <td>0</td>\n",
       "      <td>0</td>\n",
       "      <td>0</td>\n",
       "      <td>0</td>\n",
       "      <td>...</td>\n",
       "      <td>0</td>\n",
       "      <td>0</td>\n",
       "      <td>0</td>\n",
       "      <td>0</td>\n",
       "      <td>0</td>\n",
       "      <td>0</td>\n",
       "      <td>0</td>\n",
       "      <td>0</td>\n",
       "      <td>0</td>\n",
       "      <td>0</td>\n",
       "    </tr>\n",
       "    <tr>\n",
       "      <th>...</th>\n",
       "      <td>...</td>\n",
       "      <td>...</td>\n",
       "      <td>...</td>\n",
       "      <td>...</td>\n",
       "      <td>...</td>\n",
       "      <td>...</td>\n",
       "      <td>...</td>\n",
       "      <td>...</td>\n",
       "      <td>...</td>\n",
       "      <td>...</td>\n",
       "      <td>...</td>\n",
       "      <td>...</td>\n",
       "      <td>...</td>\n",
       "      <td>...</td>\n",
       "      <td>...</td>\n",
       "      <td>...</td>\n",
       "      <td>...</td>\n",
       "      <td>...</td>\n",
       "      <td>...</td>\n",
       "      <td>...</td>\n",
       "      <td>...</td>\n",
       "    </tr>\n",
       "    <tr>\n",
       "      <th>9</th>\n",
       "      <td>0</td>\n",
       "      <td>0</td>\n",
       "      <td>0</td>\n",
       "      <td>0</td>\n",
       "      <td>0</td>\n",
       "      <td>0</td>\n",
       "      <td>0</td>\n",
       "      <td>0</td>\n",
       "      <td>0</td>\n",
       "      <td>0</td>\n",
       "      <td>...</td>\n",
       "      <td>0</td>\n",
       "      <td>0</td>\n",
       "      <td>0</td>\n",
       "      <td>0</td>\n",
       "      <td>0</td>\n",
       "      <td>0</td>\n",
       "      <td>0</td>\n",
       "      <td>0</td>\n",
       "      <td>0</td>\n",
       "      <td>0</td>\n",
       "    </tr>\n",
       "    <tr>\n",
       "      <th>1</th>\n",
       "      <td>0</td>\n",
       "      <td>0</td>\n",
       "      <td>0</td>\n",
       "      <td>0</td>\n",
       "      <td>0</td>\n",
       "      <td>0</td>\n",
       "      <td>0</td>\n",
       "      <td>0</td>\n",
       "      <td>0</td>\n",
       "      <td>0</td>\n",
       "      <td>...</td>\n",
       "      <td>73</td>\n",
       "      <td>0</td>\n",
       "      <td>0</td>\n",
       "      <td>0</td>\n",
       "      <td>0</td>\n",
       "      <td>0</td>\n",
       "      <td>0</td>\n",
       "      <td>0</td>\n",
       "      <td>0</td>\n",
       "      <td>0</td>\n",
       "    </tr>\n",
       "    <tr>\n",
       "      <th>8</th>\n",
       "      <td>0</td>\n",
       "      <td>0</td>\n",
       "      <td>0</td>\n",
       "      <td>0</td>\n",
       "      <td>0</td>\n",
       "      <td>0</td>\n",
       "      <td>0</td>\n",
       "      <td>0</td>\n",
       "      <td>0</td>\n",
       "      <td>0</td>\n",
       "      <td>...</td>\n",
       "      <td>160</td>\n",
       "      <td>162</td>\n",
       "      <td>163</td>\n",
       "      <td>135</td>\n",
       "      <td>94</td>\n",
       "      <td>0</td>\n",
       "      <td>0</td>\n",
       "      <td>0</td>\n",
       "      <td>0</td>\n",
       "      <td>0</td>\n",
       "    </tr>\n",
       "    <tr>\n",
       "      <th>8</th>\n",
       "      <td>0</td>\n",
       "      <td>0</td>\n",
       "      <td>0</td>\n",
       "      <td>0</td>\n",
       "      <td>0</td>\n",
       "      <td>0</td>\n",
       "      <td>0</td>\n",
       "      <td>0</td>\n",
       "      <td>0</td>\n",
       "      <td>0</td>\n",
       "      <td>...</td>\n",
       "      <td>0</td>\n",
       "      <td>0</td>\n",
       "      <td>0</td>\n",
       "      <td>0</td>\n",
       "      <td>0</td>\n",
       "      <td>0</td>\n",
       "      <td>0</td>\n",
       "      <td>0</td>\n",
       "      <td>0</td>\n",
       "      <td>0</td>\n",
       "    </tr>\n",
       "    <tr>\n",
       "      <th>7</th>\n",
       "      <td>0</td>\n",
       "      <td>0</td>\n",
       "      <td>0</td>\n",
       "      <td>0</td>\n",
       "      <td>0</td>\n",
       "      <td>0</td>\n",
       "      <td>0</td>\n",
       "      <td>0</td>\n",
       "      <td>0</td>\n",
       "      <td>0</td>\n",
       "      <td>...</td>\n",
       "      <td>0</td>\n",
       "      <td>0</td>\n",
       "      <td>0</td>\n",
       "      <td>0</td>\n",
       "      <td>0</td>\n",
       "      <td>0</td>\n",
       "      <td>0</td>\n",
       "      <td>0</td>\n",
       "      <td>0</td>\n",
       "      <td>0</td>\n",
       "    </tr>\n",
       "  </tbody>\n",
       "</table>\n",
       "<p>60000 rows × 784 columns</p>\n",
       "</div>"
      ],
      "text/plain": [
       "       pixel1  pixel2  pixel3  pixel4  pixel5  pixel6  pixel7  pixel8  pixel9  \\\n",
       "label                                                                           \n",
       "2           0       0       0       0       0       0       0       0       0   \n",
       "9           0       0       0       0       0       0       0       0       0   \n",
       "6           0       0       0       0       0       0       0       5       0   \n",
       "0           0       0       0       1       2       0       0       0       0   \n",
       "3           0       0       0       0       0       0       0       0       0   \n",
       "...       ...     ...     ...     ...     ...     ...     ...     ...     ...   \n",
       "9           0       0       0       0       0       0       0       0       0   \n",
       "1           0       0       0       0       0       0       0       0       0   \n",
       "8           0       0       0       0       0       0       0       0       0   \n",
       "8           0       0       0       0       0       0       0       0       0   \n",
       "7           0       0       0       0       0       0       0       0       0   \n",
       "\n",
       "       pixel10  ...  pixel775  pixel776  pixel777  pixel778  pixel779  \\\n",
       "label           ...                                                     \n",
       "2            0  ...         0         0         0         0         0   \n",
       "9            0  ...         0         0         0         0         0   \n",
       "6            0  ...         0         0         0        30        43   \n",
       "0            0  ...         3         0         0         0         0   \n",
       "3            0  ...         0         0         0         0         0   \n",
       "...        ...  ...       ...       ...       ...       ...       ...   \n",
       "9            0  ...         0         0         0         0         0   \n",
       "1            0  ...        73         0         0         0         0   \n",
       "8            0  ...       160       162       163       135        94   \n",
       "8            0  ...         0         0         0         0         0   \n",
       "7            0  ...         0         0         0         0         0   \n",
       "\n",
       "       pixel780  pixel781  pixel782  pixel783  pixel784  \n",
       "label                                                    \n",
       "2             0         0         0         0         0  \n",
       "9             0         0         0         0         0  \n",
       "6             0         0         0         0         0  \n",
       "0             1         0         0         0         0  \n",
       "3             0         0         0         0         0  \n",
       "...         ...       ...       ...       ...       ...  \n",
       "9             0         0         0         0         0  \n",
       "1             0         0         0         0         0  \n",
       "8             0         0         0         0         0  \n",
       "8             0         0         0         0         0  \n",
       "7             0         0         0         0         0  \n",
       "\n",
       "[60000 rows x 784 columns]"
      ]
     },
     "execution_count": 23,
     "metadata": {},
     "output_type": "execute_result"
    }
   ],
   "source": [
    "facion_mnist_train"
   ]
  },
  {
   "cell_type": "code",
   "execution_count": 30,
   "metadata": {},
   "outputs": [
    {
     "data": {
      "text/plain": [
       "(60000, 784)"
      ]
     },
     "execution_count": 30,
     "metadata": {},
     "output_type": "execute_result"
    }
   ],
   "source": [
    "x_train = facion_mnist_train.to_numpy().reshape(facion_mnist_train.shape[0], -1)\n",
    "x_train.shape"
   ]
  },
  {
   "cell_type": "code",
   "execution_count": 29,
   "metadata": {},
   "outputs": [
    {
     "data": {
      "text/plain": [
       "(60000,)"
      ]
     },
     "execution_count": 29,
     "metadata": {},
     "output_type": "execute_result"
    }
   ],
   "source": [
    "y_train = facion_mnist_train.index.values\n",
    "y_train.shape"
   ]
  },
  {
   "cell_type": "code",
   "execution_count": 32,
   "metadata": {},
   "outputs": [
    {
     "data": {
      "text/plain": [
       "(10000, 784)"
      ]
     },
     "execution_count": 32,
     "metadata": {},
     "output_type": "execute_result"
    }
   ],
   "source": [
    "x_test = facion_mnist_test.to_numpy().reshape(facion_mnist_test.shape[0], -1)\n",
    "x_test.shape"
   ]
  },
  {
   "cell_type": "code",
   "execution_count": 34,
   "metadata": {},
   "outputs": [
    {
     "data": {
      "text/plain": [
       "(10000,)"
      ]
     },
     "execution_count": 34,
     "metadata": {},
     "output_type": "execute_result"
    }
   ],
   "source": [
    "y_test = facion_mnist_test.index.values\n",
    "y_test.shape"
   ]
  },
  {
   "cell_type": "code",
   "execution_count": 35,
   "metadata": {},
   "outputs": [],
   "source": [
    "# Attention! Кажется, под python3.9 импортнуть керас будет трудно (стабильный тензорфлоу requires Python 3.5–3.8, pip and venv >= 19.0)\n",
    "#import keras\n",
    "#from keras.datasets import fashion_mnist\n",
    "#(x_train_pics, y_train), (x_test_pics, y_test) = fashion_mnist.load_data()\n",
    "#x_train = x_train_pics.reshape(x_train_pics.shape[0], -1)\n",
    "#x_test = x_test_pics.reshape(x_test_pics.shape[0], -1)"
   ]
  },
  {
   "cell_type": "markdown",
   "metadata": {},
   "source": [
    "**ВАЖНОЕ ЗАМЕЧАНИЕ:**\n",
    "\n",
    "Датасет по умолчанию хранится в типе 'uint8', вследствие чего при ручном подсчете дисперсии переменные переполняются и вы получаете неадекватные результаты. Бороться с этим можно преобразованием исходных данных к типу 'float'. Еще один хороший вариант – использовать специализированные функции из библиотек numpy / scipy и, в частности, **scipy.spatial.distance_matrix.**\n",
    "\n",
    "Ниже приводим подтверждающий пример."
   ]
  },
  {
   "cell_type": "code",
   "execution_count": 37,
   "metadata": {},
   "outputs": [
    {
     "data": {
      "text/plain": [
       "numpy.ndarray"
      ]
     },
     "execution_count": 37,
     "metadata": {},
     "output_type": "execute_result"
    }
   ],
   "source": [
    "type(x_train)"
   ]
  },
  {
   "cell_type": "code",
   "execution_count": 40,
   "metadata": {},
   "outputs": [
    {
     "data": {
      "text/plain": [
       "numpy.int64"
      ]
     },
     "execution_count": 40,
     "metadata": {},
     "output_type": "execute_result"
    }
   ],
   "source": [
    "type(x_train[0,0])"
   ]
  },
  {
   "cell_type": "markdown",
   "metadata": {},
   "source": [
    "**из-за того, что тип int64 числа получаются одинаковые, но в ходе решения я все равно буду приводить к .astype(float)**"
   ]
  },
  {
   "cell_type": "code",
   "execution_count": 44,
   "metadata": {},
   "outputs": [
    {
     "name": "stdout",
     "output_type": "stream",
     "text": [
      "8681049.5\n",
      "8681049.5\n"
     ]
    }
   ],
   "source": [
    "import numpy as np\n",
    "\n",
    "indices = np.random.choice(x_train.shape[0], size=2000)\n",
    "print(np.median(np.sum((x_train[indices[:1000]].astype(float) - x_train[indices[1000:]]).astype(float) ** 2, axis=1)))\n",
    "\n",
    "print(np.median(np.sum((x_train[indices[:1000]] - x_train[indices[1000:]]) ** 2, axis=1)))"
   ]
  },
  {
   "cell_type": "markdown",
   "metadata": {},
   "source": [
    "**Задание 1. (5 баллов)**\n",
    "\n",
    "А) (4 балла) Реализуйте алгоритм, описанный выше. Можете воспользоваться шаблоном класса ниже или написать свой интерфейс.\n",
    "\n",
    "Ваша реализация должна поддерживать следующие опции:\n",
    "\n",
    "1. Возможность задавать значения параметров new_dim (по умолчанию 50) и n_features (по умолчанию 1000).\n",
    "2. Возможность включать или выключать предварительное понижение размерности с помощью метода главных компонент.\n",
    "3. Возможность выбирать тип линейной модели (логистическая регрессия или SVM с линейным ядром).\n",
    "\n",
    "**Важно! За несоответствия будут сниматься баллы:**\n",
    "\n",
    " * Так как мы работаем с линейными моделями, вам необходимо делать нормализацию данных.\n",
    " * Оценка гиперпраметра распределения и построение нового датасета должны быть без питоновских циклов (можно все запрограммировать векторно, используя numpy)\n",
    " \n",
    "**Б) (1 балл)** Протестируйте на данных Fashion MNIST, сформированных кодом выше. Если на тесте у вас получилась доля верных ответов не ниже **0.84 с параметрами по умолчанию**, то вы всё сделали правильно.\n",
    "\n",
    "Подсказка\n",
    "\n",
    "* Использование метода без PCA и без нормализации признаков перед генерацией весов может дать неожиданные результаты. Сами подумайте, почему так может происходить :)"
   ]
  },
  {
   "cell_type": "code",
   "execution_count": 165,
   "metadata": {},
   "outputs": [],
   "source": [
    "import warnings\n",
    "warnings.filterwarnings('ignore')"
   ]
  },
  {
   "cell_type": "code",
   "execution_count": 170,
   "metadata": {},
   "outputs": [],
   "source": [
    "from sklearn.base import BaseEstimator, TransformerMixin\n",
    "from sklearn.decomposition import PCA\n",
    "from sklearn import svm\n",
    "from sklearn.linear_model import LogisticRegression\n",
    "from sklearn.preprocessing import StandardScaler\n",
    "\n",
    "\n",
    "class RFFPipeline(BaseEstimator, TransformerMixin):\n",
    "    def __init__(self, n_features=1000, new_dim=50, use_PCA=True, classifier='logreg'):\n",
    "        \"\"\"        \n",
    "        Implements pipeline, which consists of PCA decomposition,\n",
    "        Random Fourier Features approximation and linear classification model.\n",
    "        \n",
    "        n_features, int: amount of synthetic random features generated with RFF approximation.\n",
    "\n",
    "        new_dim, int: PCA output size.\n",
    "        \n",
    "        use_PCA, bool: whether to include PCA preprocessing.\n",
    "        \n",
    "        classifier, string: either 'svm' or 'logreg', a linear classification model to use on top of pipeline.\n",
    "        \n",
    "        Feel free to edit this template for your preferences.    \n",
    "        \"\"\"\n",
    "        self.n_features = n_features\n",
    "        self.use_PCA = use_PCA\n",
    "        self.new_dim = new_dim\n",
    "        self.classifier = classifier\n",
    "        \n",
    "    def fit(self, X, y):\n",
    "        \"\"\"\n",
    "        Fit all parts of algorithm (PCA, RFF, Classification) to training set.\n",
    "        \"\"\"\n",
    "        # Your code here: (￣▽￣)/♫•*¨*•.¸¸♪\n",
    "        #PCA\n",
    "        if (self.use_PCA == True):\n",
    "            self.pca = PCA(n_components = self.new_dim) \n",
    "            X = self.pca.fit_transform(X)\n",
    "            #print('X_shape', X.shape)\n",
    "        #нормировка\n",
    "        self.scaler = StandardScaler()\n",
    "        X = self.scaler.fit_transform(X)\n",
    "        #сигма\n",
    "        posl = np.arange(789)\n",
    "        flag = True\n",
    "        vec = np.random.choice(posl, 1000001)\n",
    "        while(flag): \n",
    "            diff = np.ediff1d(vec)\n",
    "            vec[np.where(diff == 0)] = np.random.choice(posl, 1)\n",
    "            flag = np.any(np.any(np.diff(vec) == 0))\n",
    "        \n",
    "        mas = X[vec]\n",
    "        diff_mas = np.diff(mas, axis = 0)**2 \n",
    "        sigma_2 = np.median(np.sum(diff_mas, axis = 1))\n",
    "        self.b = np.random.uniform(-np.pi,np.pi, size=(1, self.n_features))\n",
    "        self.W = np.random.normal(0, 1 / sigma_2, size=(X.shape[1], self.n_features))\n",
    "        #print('X', X.shape, 'W', self.W.shape, 'b', self.b.shape)\n",
    "        X = np.cos(X @ self.W  + self.b) #RFF\n",
    "        \n",
    "        self.scaler2 = StandardScaler()\n",
    "        X = self.scaler2.fit_transform(X)\n",
    "        if (self.classifier == 'logreg'):\n",
    "            self.clf = LogisticRegression(max_iter = 500)\n",
    "            self.clf.fit(X, y)\n",
    "        elif(self.classifier == 'svm'):\n",
    "            self.clf = svm.SVC()\n",
    "            self.clf.fit(X, y)\n",
    "        \n",
    "        return self\n",
    "\n",
    "    def predict_proba(self, X):\n",
    "        \"\"\"\n",
    "        Apply pipeline to obtain scores for input data.\n",
    "        \"\"\"\n",
    "        # Your code here: (￣▽￣)/♫•*¨*•.¸¸♪\n",
    "        if (self.use_PCA == True):\n",
    "            X = self.pca.transform(X)\n",
    "        X = self.scaler.transform(X)\n",
    "        X = np.cos(X @self.W + self.b)\n",
    "        X = self.scaler2.transform(X)\n",
    "        if (self.classifier == 'logreg'):\n",
    "            res = self.clf.predict_proba(X)\n",
    "        elif(self.classifier == 'svm'):\n",
    "            res = self.clf.predict_proba(X)\n",
    "        return res\n",
    "        \n",
    "    def predict(self, X):\n",
    "        \"\"\"\n",
    "        Apply pipeline to obtain discrete predictions for input data.\n",
    "        \"\"\"\n",
    "        # Your code here: (￣▽￣)/♫•*¨*•.¸¸♪\n",
    "        if (self.use_PCA == True):\n",
    "            X = self.pca.transform(X)\n",
    "        X = self.scaler.transform(X)\n",
    "        X = np.cos(X @self.W + self.b)\n",
    "        X = self.scaler2.transform(X)\n",
    "        if (self.classifier == 'logreg'):\n",
    "            res = self.clf.predict(X)\n",
    "        elif(self.classifier == 'svm'):\n",
    "            res = self.clf.predict(X)\n",
    "        return res"
   ]
  },
  {
   "cell_type": "code",
   "execution_count": 171,
   "metadata": {},
   "outputs": [
    {
     "name": "stdout",
     "output_type": "stream",
     "text": [
      "res 0.8855\n"
     ]
    }
   ],
   "source": [
    "RFFP = RFFPipeline()\n",
    "RFFP.fit(x_train, y_train)\n",
    "a = RFFP.predict(x_test)\n",
    "\n",
    "print('res', np.sum(a == y_test) / len(a))"
   ]
  },
  {
   "cell_type": "markdown",
   "metadata": {},
   "source": [
    "0.8855 - хорошее число"
   ]
  },
  {
   "cell_type": "code",
   "execution_count": 103,
   "metadata": {},
   "outputs": [
    {
     "name": "stdout",
     "output_type": "stream",
     "text": [
      "d [0 0 0]\n",
      "res [6 6 6 1]\n",
      "d [ 0  0 -5]\n",
      "res [3 3 6 1]\n",
      "d [ 0  3 -5]\n",
      "res [2 3 6 1]\n"
     ]
    }
   ],
   "source": [
    "flag = True\n",
    "f = np.arange(7)\n",
    "a = np.array([1, 1, 1, 1])\n",
    "while(flag):\n",
    "    d = np.diff(a)\n",
    "    print('d', d)\n",
    "    a[np.where(d == 0)] = np.random.choice(f, 1)\n",
    "    flag = np.any(np.diff(a) == 0)\n",
    "    print('res', a)"
   ]
  },
  {
   "cell_type": "markdown",
   "metadata": {},
   "source": [
    "**Задание 2. (3 балла)**\n",
    "\n",
    "Сравните следующие подходы: (2.5 балла)\n",
    "\n",
    "* Подход со случайными признаками vs обучение линейного SVM на исходных признаках.\n",
    "* Подход со случайными признаками vs обучение ядрового SVM на исходных признаках.\n",
    "* Подход со случайными признаками vs вариант, в котором вы понижаете размерность с помощью PCA и обучаете градиентный бустинг. * Используйте одну из реализаций CatBoost/LightGBM/XGBoost\n",
    "* Не забудьте в этом случае подобрать число деревьев и длину шага.\n",
    "\n",
    "*Сделайте выводы:*  **(0.5 баллов)**\n",
    "\n",
    "* Насколько идея со случайными признаками работает?\n",
    "* Сравните как с точки зрения качества, так и с точки зрения скорости обучения и применения.\n",
    "\n",
    "**Важные замечания**\n",
    "\n",
    "* Подход по случайными признаками тестируйте в двух вариантах линейной модели. То есть у вас должно получиться всего 6 пар сравнений.\n",
    "* В подходе со случайными признаками в этом задании можно оставиь все параметры, кроме типа модели, по умолчанию.\n",
    "____________________________________________________________________________________________________________\n",
    "* Ядровой SVM может очень долго обучаться, поэтому можно делать любые разумные вещи для ускорения: брать подмножество объектов из обучающей выборки, например.\n",
    "* Если вы решили брать подвыборку для какого-то сравнения, то следите за тем, чтобы оба метода обучались **на одинаковом датасете**. Например, сравнивать подход со случайными признаками, обучая его на всем датасете, против ядрового SVM на подвыборке -- некорректно. Тестирование так же должно происходить на одинаковом датасете.\n",
    "* Можно в начале этой секции выделить подвыборку и использовать ее для всех экспериментов, если вам это удобно. Необходимо оставить в таком случае хотя бы 10000 объектов. **За меньшее число будут сниматься баллы**\n",
    "_____________________________________________________________________________________________________________\n",
    "* При сравнении по времени не забывайте смотреть, во сколько потоков реализован алгоритм. Например, сравнивать алгоритм, с параметром n_jobs=-1 (задействовать все возможные потоки) с однопоточным алгоритмом по времени будет некорректно\n",
    "* Замеряйте время не только обучения, но и обучения + препроцессинга, если он есть (считайте, что формирование признаков в подходе со случайными признаками входит в понятие алгоритма). Так вы сможете более точно проанализировать временные характеристики подходов.\n",
    "______________________________________________________________________________________________________________\n",
    "* Переберите хотя бы 10 различных значений количества деревьев (в разумных пределах и с разумным шагом), хотя бы 5 значений параметра learning rate (по логарифмической шкале). Если не знаете, в каких пределах пребирать, то можно найти материалы по соответствующим градиентным бустингам с разбором того, как обычно параметры перебирают.\n",
    "* Перед использованием линейного подхода необходимо нормализовывать признаки (это обычная практика при применении линейных методов, как вы знаете)\n",
    "* Отображать результаты лучше всего будет в виде таблички (pandas DataFrame например), где отображены результаты как качеств всех алгоритмов, так и времена работы. Можно использовать графическое отображение через bar_plot. Можно также текстом.\n",
    "_______________________________________________________________________________________________________________\n",
    "* Здесь и далее нигде не должно быть сильных просадок по качеству. То есть, если вы получили где-то качество 0.2/0.3/0.4 итд --- это повод задуматься, что где-то у вас есть бага. Во всех экспериментах мы ожидаем качество на тесте не ниже 0.75. **За меньшее качество будут сниматься баллы**"
   ]
  },
  {
   "cell_type": "code",
   "execution_count": 188,
   "metadata": {},
   "outputs": [],
   "source": [
    "a = np.arange(60000)\n",
    "rand_vec_15k = np.random.choice(a, 15000, replace=False)"
   ]
  },
  {
   "cell_type": "code",
   "execution_count": 189,
   "metadata": {},
   "outputs": [],
   "source": [
    "x_train_short = x_train[rand_vec_15k]\n",
    "y_train_short = y_train[rand_vec_15k]"
   ]
  },
  {
   "cell_type": "code",
   "execution_count": 194,
   "metadata": {},
   "outputs": [
    {
     "name": "stdout",
     "output_type": "stream",
     "text": [
      "random features time 15k objects logreg: 42.70691776275635 sec\n",
      "random features accur 15k objects logreg: 0.8612\n"
     ]
    }
   ],
   "source": [
    "import time \n",
    "start_time = time.time()\n",
    "RFFP = RFFPipeline()\n",
    "RFFP.fit(x_train_short, y_train_short)\n",
    "a = RFFP.predict(x_test)\n",
    "\n",
    "t = time.time() - start_time\n",
    "print('random features time 15k objects logreg:', t, 'sec')\n",
    "print('random features accur 15k objects logreg:', np.sum(a == y_test) / len(a))"
   ]
  },
  {
   "cell_type": "code",
   "execution_count": 197,
   "metadata": {},
   "outputs": [
    {
     "name": "stdout",
     "output_type": "stream",
     "text": [
      "LinearSVC time 15k objects: 73.09864592552185 sec\n",
      "LinearSVC accur 15k objects: 0.8047\n"
     ]
    }
   ],
   "source": [
    "from sklearn.svm import LinearSVC\n",
    "from sklearn.pipeline import make_pipeline\n",
    "from sklearn.preprocessing import StandardScaler\n",
    "start_time = time.time()\n",
    "clf = make_pipeline(StandardScaler(), LinearSVC(random_state=0, tol=1e-5))\n",
    "clf.fit(x_train_short, y_train_short)\n",
    "aLinearSVC = clf.predict(x_test)\n",
    "tLinearSVC = time.time() - start_time\n",
    "print('LinearSVC time 15k objects:', tLinearSVC, 'sec')\n",
    "print('LinearSVC accur 15k objects:', np.sum(aLinearSVC == y_test) / len(aLinearSVC))"
   ]
  },
  {
   "cell_type": "markdown",
   "metadata": {},
   "source": [
    "**первое сравнение: RF logreg vs LinearSVM**\n",
    "\n",
    "1. random features time 15k objects logreg: 42.70 sec\n",
    "\n",
    "2. random features accur 15k objects logreg: 0.8612\n",
    "\n",
    "3. LinearSVC time 15k objects: 73.10 sec\n",
    "\n",
    "4. LinearSVC accur 15k objects: 0.8047"
   ]
  },
  {
   "cell_type": "code",
   "execution_count": 265,
   "metadata": {},
   "outputs": [
    {
     "data": {
      "image/png": "[encoded data removed]",
      "text/plain": [
       "<Figure size 720x576 with 2 Axes>"
      ]
     },
     "metadata": {
      "needs_background": "light"
     },
     "output_type": "display_data"
    }
   ],
   "source": [
    "graph = plt.figure(figsize = (10,8))\n",
    "#ax = graph.add_axes([0,0,1,1])\n",
    "names = ['RF logreg', 'LinearSVM']\n",
    "time = [42, 73]\n",
    "accur = [0.86, 0.80]\n",
    "#ax.bar(names, time, color = 'g')\n",
    "#plt.xticks(rotation=30)\n",
    "#plt.ylabel('time, сек')\n",
    "#plt.xlabel('name of methood')\n",
    "#plt.show()\n",
    "\n",
    "plt.tight_layout()\n",
    "plt.subplot(1, 2, 1)\n",
    "plt.title('сравнение RF logreg и LinearSVM')\n",
    "plt.bar(names, time, color = 'g')\n",
    "plt.xticks(rotation=30)\n",
    "\n",
    "plt.xlabel('name of methood')\n",
    "plt.ylabel('time, сек')\n",
    "\n",
    "\n",
    "plt.subplot(1, 2, 2)\n",
    "\n",
    "plt.title('сравнение RF logreg и LinearSVM')\n",
    "plt.bar(names, accur, color = 'r')\n",
    "plt.xticks(rotation=30)\n",
    "plt.xlabel('name of methood')\n",
    "plt.ylabel('accur')\n",
    "\n",
    "plt.show()"
   ]
  },
  {
   "cell_type": "code",
   "execution_count": 195,
   "metadata": {},
   "outputs": [
    {
     "name": "stdout",
     "output_type": "stream",
     "text": [
      "random features time 15k objects svm: 212.89214086532593 sec\n",
      "random features accur 15k objects svm: 0.8762\n"
     ]
    }
   ],
   "source": [
    "import time \n",
    "start_time = time.time()\n",
    "RFFP = RFFPipeline(classifier='svm')\n",
    "RFFP.fit(x_train_short, y_train_short)\n",
    "a = RFFP.predict(x_test)\n",
    "t = time.time() - start_time\n",
    "print('random features time 15k objects svm:', t, 'sec')\n",
    "print('random features accur 15k objects svm:',  np.sum(a == y_test) / len(a))"
   ]
  },
  {
   "cell_type": "code",
   "execution_count": 198,
   "metadata": {},
   "outputs": [
    {
     "name": "stdout",
     "output_type": "stream",
     "text": [
      "LinearSVC time 15k objects: 73.09864592552185 sec\n",
      "LinearSVC accur 15k objects: 0.8047\n"
     ]
    }
   ],
   "source": [
    "print('LinearSVC time 15k objects:', tLinearSVC, 'sec')\n",
    "print('LinearSVC accur 15k objects:', np.sum(aLinearSVC == y_test) / len(aLinearSVC))"
   ]
  },
  {
   "cell_type": "markdown",
   "metadata": {},
   "source": [
    "**второе сравнение: RF svm vs LinearSVM**\n",
    "1. random features time 15k objects svm: 212.89 sec\n",
    "2. random features accur 15k objects svm: 0.8762\n",
    "3. LinearSVC time 15k objects: 73.10 sec\n",
    "4. LinearSVC accur 15k objects: 0.8047"
   ]
  },
  {
   "cell_type": "code",
   "execution_count": 285,
   "metadata": {},
   "outputs": [
    {
     "data": {
      "image/png": "[encoded data removed]",
      "text/plain": [
       "<Figure size 720x576 with 2 Axes>"
      ]
     },
     "metadata": {
      "needs_background": "light"
     },
     "output_type": "display_data"
    }
   ],
   "source": [
    "graph = plt.figure(figsize = (10,8))\n",
    "#ax = graph.add_axes([0,0,1,1])\n",
    "names = ['RF svm', 'LinearSVM']\n",
    "time = [212, 73]\n",
    "accur = [0.87, 0.80]\n",
    "#ax.bar(names, time, color = 'g')\n",
    "#plt.xticks(rotation=30)\n",
    "#plt.ylabel('time, сек')\n",
    "#plt.xlabel('name of methood')\n",
    "#plt.show()\n",
    "\n",
    "plt.tight_layout()\n",
    "plt.subplot(1, 2, 1)\n",
    "plt.title('сравнение RF svm и LinearSVM')\n",
    "plt.bar(names, time, color = 'g')\n",
    "plt.xticks(rotation=30)\n",
    "\n",
    "plt.xlabel('name of methood')\n",
    "plt.ylabel('time, сек')\n",
    "\n",
    "\n",
    "plt.subplot(1, 2, 2)\n",
    "\n",
    "plt.title('сравнение RF svm и LinearSVM')\n",
    "plt.bar(names, accur, color = 'r')\n",
    "plt.xticks(rotation=30)\n",
    "plt.xlabel('name of methood')\n",
    "plt.ylabel('accur')\n",
    "\n",
    "plt.show()"
   ]
  },
  {
   "cell_type": "code",
   "execution_count": 201,
   "metadata": {},
   "outputs": [
    {
     "name": "stdout",
     "output_type": "stream",
     "text": [
      "kernel svm time 15k objects: 133.50059700012207 sec\n",
      "kernel svm accur 15k objects: 0.8704\n"
     ]
    }
   ],
   "source": [
    "from sklearn.svm import SVC\n",
    "start_time = time.time()\n",
    "clfkernel = make_pipeline(StandardScaler(), SVC(kernel='rbf'))\n",
    "clfkernel.fit(x_train_short, y_train_short)\n",
    "aclfkernel = clfkernel.predict(x_test)\n",
    "tclfkernel = time.time() - start_time\n",
    "print('kernel svm time 15k objects:', tclfkernel, 'sec')\n",
    "print('kernel svm accur 15k objects:',  np.sum(aclfkernel == y_test) / len(aclfkernel))"
   ]
  },
  {
   "cell_type": "markdown",
   "metadata": {},
   "source": [
    "**третье сравнение: RF logreg vs kernel SVM**\n",
    "1. random features time 15k objects logreg: 42.70 sec\n",
    "2. random features accur 15k objects logreg: 0.8612\n",
    "3. kernel svm time 15k objects: 133.50 sec\n",
    "4. kernel svm accur 15k objects: 0.8704"
   ]
  },
  {
   "cell_type": "code",
   "execution_count": 286,
   "metadata": {},
   "outputs": [
    {
     "data": {
      "image/png": "[encoded data removed]",
      "text/plain": [
       "<Figure size 720x576 with 2 Axes>"
      ]
     },
     "metadata": {
      "needs_background": "light"
     },
     "output_type": "display_data"
    }
   ],
   "source": [
    "graph = plt.figure(figsize = (10,8))\n",
    "#ax = graph.add_axes([0,0,1,1])\n",
    "names = ['RF logreg', 'Kernel SVM']\n",
    "time = [42, 133]\n",
    "accur = [0.86, 0.87]\n",
    "#ax.bar(names, time, color = 'g')\n",
    "#plt.xticks(rotation=30)\n",
    "#plt.ylabel('time, сек')\n",
    "#plt.xlabel('name of methood')\n",
    "#plt.show()\n",
    "\n",
    "plt.tight_layout()\n",
    "plt.subplot(1, 2, 1)\n",
    "plt.title('сравнение RF logreg и Kernel SVM')\n",
    "plt.bar(names, time, color = 'g')\n",
    "plt.xticks(rotation=30)\n",
    "\n",
    "plt.xlabel('name of methood')\n",
    "plt.ylabel('time, сек')\n",
    "\n",
    "\n",
    "plt.subplot(1, 2, 2)\n",
    "\n",
    "plt.title('сравнение RF logreg и LineKernel SVMarSVM')\n",
    "plt.bar(names, accur, color = 'r')\n",
    "plt.xticks(rotation=30)\n",
    "plt.xlabel('name of methood')\n",
    "plt.ylabel('accur')\n",
    "\n",
    "plt.show()"
   ]
  },
  {
   "cell_type": "code",
   "execution_count": 203,
   "metadata": {},
   "outputs": [
    {
     "name": "stdout",
     "output_type": "stream",
     "text": [
      "kernel svm time 15k objects: 133.50059700012207 sec\n",
      "kernel svm accur 15k objects: 0.8704\n"
     ]
    }
   ],
   "source": [
    "print('kernel svm time 15k objects:', tclfkernel, 'sec')\n",
    "print('kernel svm accur 15k objects:',  np.sum(aclfkernel == y_test) / len(aclfkernel))"
   ]
  },
  {
   "cell_type": "markdown",
   "metadata": {},
   "source": [
    "**четвертое сравнение: RF svm vs kernel SVM**\n",
    "1. random features time 15k objects svm: 212.89 sec\n",
    "2. random features accur 15k objects svm: 0.8762\n",
    "3. kernel svm time 15k objects: 133.50 sec\n",
    "4. kernel svm accur 15k objects: 0.8704"
   ]
  },
  {
   "cell_type": "code",
   "execution_count": 287,
   "metadata": {},
   "outputs": [
    {
     "data": {
      "image/png": "[encoded data removed]",
      "text/plain": [
       "<Figure size 720x576 with 2 Axes>"
      ]
     },
     "metadata": {
      "needs_background": "light"
     },
     "output_type": "display_data"
    }
   ],
   "source": [
    "graph = plt.figure(figsize = (10,8))\n",
    "#ax = graph.add_axes([0,0,1,1])\n",
    "names = ['RF svm', 'Kernel SVM']\n",
    "time = [212, 133]\n",
    "accur = [0.87, 0.87]\n",
    "#ax.bar(names, time, color = 'g')\n",
    "#plt.xticks(rotation=30)\n",
    "#plt.ylabel('time, сек')\n",
    "#plt.xlabel('name of methood')\n",
    "#plt.show()\n",
    "\n",
    "plt.tight_layout()\n",
    "plt.subplot(1, 2, 1)\n",
    "plt.title('сравнение RF svm и Kernel SVM')\n",
    "plt.bar(names, time, color = 'g')\n",
    "plt.xticks(rotation=30)\n",
    "\n",
    "plt.xlabel('name of methood')\n",
    "plt.ylabel('time, сек')\n",
    "\n",
    "\n",
    "plt.subplot(1, 2, 2)\n",
    "\n",
    "plt.title('сравнение RF svm и LineKernel SVMarSVM')\n",
    "plt.bar(names, accur, color = 'r')\n",
    "plt.xticks(rotation=30)\n",
    "plt.xlabel('name of methood')\n",
    "plt.ylabel('accur')\n",
    "\n",
    "plt.show()"
   ]
  },
  {
   "cell_type": "code",
   "execution_count": 275,
   "metadata": {},
   "outputs": [
    {
     "name": "stdout",
     "output_type": "stream",
     "text": [
      "i am working 5\n",
      "i am working 10\n",
      "i am working 30\n",
      "i am working 50\n",
      "i am working 100\n",
      "i am working 200\n",
      "i am working 400\n",
      "i am working 600\n",
      "i am working 800\n",
      "i am working 1000\n"
     ]
    }
   ],
   "source": [
    "from lightgbm import LGBMClassifier\n",
    "import time \n",
    "list_time = []\n",
    "list_of_accur = []\n",
    "list_of_trees = [5, 10, 30, 50, 100, 200, 400, 600, 800, 1000]\n",
    "pca = PCA(n_components = 50) \n",
    "X_train_new = pca.fit_transform(x_train)\n",
    "x_test_new = pca.transform(x_test)\n",
    "for i in list_of_trees:\n",
    "    print('i am working', i)\n",
    "    start_time = time.time()\n",
    "    clf_param = LGBMClassifier(n_estimators = i)\n",
    "    clf_param.fit(X_train_new, y_train)\n",
    "    t = time.time() - start_time\n",
    "    s = clf_param.predict(x_test_new)\n",
    "    list_time += [t]\n",
    "    list_of_accur += [np.sum(s == y_test) / len(s)]"
   ]
  },
  {
   "cell_type": "code",
   "execution_count": 277,
   "metadata": {},
   "outputs": [
    {
     "data": {
      "image/png": "[encoded data removed]",
      "text/plain": [
       "<Figure size 720x576 with 1 Axes>"
      ]
     },
     "metadata": {
      "needs_background": "light"
     },
     "output_type": "display_data"
    }
   ],
   "source": [
    "fig, ax = plt.subplots(figsize = (10, 8))\n",
    "\n",
    "ax.scatter(list_of_trees, list_of_accur, color = 'r')\n",
    "ax.set_ylabel('accuracy', size = 20)\n",
    "ax.set_xlabel('количество деревьев', size = 20)\n",
    "ax.grid()\n",
    "\n",
    "plt.xscale(\"log\")\n",
    "ax.set_title('LightGBM, количество деревьев', size = 18 )\n",
    "#plt.savefig('C:/Users/User/Jupiter_notebook/task4_GB_nest1.pdf')\n",
    "plt.show()"
   ]
  },
  {
   "cell_type": "code",
   "execution_count": 278,
   "metadata": {},
   "outputs": [
    {
     "data": {
      "text/plain": [
       "[0.6036221981048584,\n",
       " 0.9713413715362549,\n",
       " 2.254394292831421,\n",
       " 3.725870370864868,\n",
       " 7.417140960693359,\n",
       " 14.048612117767334,\n",
       " 40.92231512069702,\n",
       " 47.664931535720825,\n",
       " 63.218770265579224,\n",
       " 74.61809206008911]"
      ]
     },
     "execution_count": 278,
     "metadata": {},
     "output_type": "execute_result"
    }
   ],
   "source": [
    "list_time"
   ]
  },
  {
   "cell_type": "markdown",
   "metadata": {},
   "source": [
    "лучшее значение количества деревьев - 800"
   ]
  },
  {
   "cell_type": "code",
   "execution_count": 280,
   "metadata": {},
   "outputs": [
    {
     "name": "stdout",
     "output_type": "stream",
     "text": [
      "i am working 0.1\n",
      "i am working 0.3\n",
      "i am working 0.5\n",
      "i am working 0.7\n",
      "i am working 0.9\n"
     ]
    }
   ],
   "source": [
    "import time \n",
    "list_time = []\n",
    "list_of_accur = []\n",
    "list_of_learn = [0.1, 0.3, 0.5, 0.7,0.9]\n",
    "pca = PCA(n_components = 50) \n",
    "X_train_new = pca.fit_transform(x_train)\n",
    "x_test_new = pca.transform(x_test)\n",
    "for i in list_of_learn:\n",
    "    print('i am working', i)\n",
    "    start_time = time.time()\n",
    "    clf_param = LGBMClassifier(n_estimators = 800, learning_rate = i)\n",
    "    clf_param.fit(X_train_new, y_train)\n",
    "    t = time.time() - start_time\n",
    "    s = clf_param.predict(x_test_new)\n",
    "    list_time += [t]\n",
    "    list_of_accur += [np.sum(s == y_test) / len(s)]"
   ]
  },
  {
   "cell_type": "code",
   "execution_count": 281,
   "metadata": {},
   "outputs": [
    {
     "data": {
      "image/png": "[encoded data removed]",
      "text/plain": [
       "<Figure size 720x576 with 1 Axes>"
      ]
     },
     "metadata": {
      "needs_background": "light"
     },
     "output_type": "display_data"
    }
   ],
   "source": [
    "fig, ax = plt.subplots(figsize = (10, 8))\n",
    "\n",
    "ax.scatter(list_of_learn, list_of_accur, color = 'r')\n",
    "ax.set_ylabel('accuracy', size = 20)\n",
    "ax.set_xlabel('learning_rate', size = 20)\n",
    "ax.grid()\n",
    "#plt.xscale(\"log\")\n",
    "#ax.legend(prop={'size': 15})\n",
    "ax.set_title('LightGBM, learning_rate', size = 18)\n",
    "#plt.savefig('C:/Users/User/Jupiter_notebook/task4_GB_learn_rate_rmse.pdf')\n",
    "plt.show()"
   ]
  },
  {
   "cell_type": "markdown",
   "metadata": {},
   "source": [
    "лучшее качество получилось при learning_rate = 0.1"
   ]
  },
  {
   "cell_type": "code",
   "execution_count": 283,
   "metadata": {},
   "outputs": [
    {
     "name": "stdout",
     "output_type": "stream",
     "text": [
      "accuracy LightGBM 0.8878\n",
      "time LightGBM 61.51825761795044 sec\n"
     ]
    }
   ],
   "source": [
    "print('accuracy LightGBM', list_of_accur[0])\n",
    "print('time LightGBM', list_time[0], 'sec')"
   ]
  },
  {
   "cell_type": "markdown",
   "metadata": {},
   "source": [
    "**пятое сравнение: lohreg svm vs LightGBM**\n",
    "1. random features time 15k objects logreg: 42.70 sec \n",
    "2. random features accur 15k objects logreg: 0.8612\n",
    "3. LightGBM time 15k objects: 61.51 sec\n",
    "4. LightGBM accur 15k objects: 0.88"
   ]
  },
  {
   "cell_type": "markdown",
   "metadata": {},
   "source": [
    "**шестое сравнение: RF svm vs LightGBM**\n",
    "1. random features time 15k objects svm: 212.89 sec\n",
    "2. random features accur 15k objects svm: 0.8762\n",
    "3. LightGBM time 15k objects: 61.51 sec\n",
    "4. LightGBM accur 15k objects: 0.88"
   ]
  },
  {
   "cell_type": "markdown",
   "metadata": {},
   "source": [
    "Видно, что лучшее качество дает лучшее качество, но работает относительно долго\n",
    "LightGBM и lohreg svm работали быстрее всего, но деревья давали еще и лучшее качество, \n",
    "\n",
    "однако для этого их нужно было настроить (подобрать правильные параметры)"
   ]
  },
  {
   "cell_type": "markdown",
   "metadata": {},
   "source": [
    "**Задание 3. (2 балла)**\n",
    "\n",
    "Проведите эксперименты **(1.5 балла)**, после которых вы сможете ответить на следующие вопросы **(0.5 балла)**:\n",
    "\n",
    "1. Помогает ли предварительное понижение размерности с помощью PCA?\n",
    "2. Как зависит итоговое качество от n_features? Выходит ли оно на плато при росте n_features?\n",
    "3. Важно ли, какую модель обучать — логистическую регрессию или SVM?\n",
    "\n",
    "**Замечания:**\n",
    "\n",
    "* В п.2 необходимо перебрать хотя бы 30 значений признаков по разумной сетке, затрагивающей значение в 3000 признаков (или максимальное из того, что позволяет ваш компьтер за разумное время). **За меньшее число признаков и меньшее максимальное значение будут сниматься баллы**\n",
    "* В п.2 используйте логистическую регрессию\n",
    "* В п.2 отобразите качества (accuracy_score) на обучении и на тесте в виде графиков на одном полотне. **За отсутствие будут сниматься баллы**\n",
    "* Везде делайте замеры по времени и результаты включайте в выводы. **За отсутствие будут сниматься баллы**"
   ]
  },
  {
   "cell_type": "markdown",
   "metadata": {},
   "source": [
    "**1 вопрос, понижение размерности**"
   ]
  },
  {
   "cell_type": "code",
   "execution_count": 207,
   "metadata": {},
   "outputs": [
    {
     "name": "stdout",
     "output_type": "stream",
     "text": [
      "accur with PCA 0.8847\n",
      "work time with PCA 167.95135402679443 sec\n"
     ]
    }
   ],
   "source": [
    "start_time = time.time()\n",
    "RFFP = RFFPipeline(use_PCA=True)\n",
    "RFFP.fit(x_train, y_train)\n",
    "a = RFFP.predict(x_test)\n",
    "t = time.time() - start_time\n",
    "print('accur with PCA', np.sum(a == y_test) / len(a))\n",
    "print('work time with PCA', t, 'sec')"
   ]
  },
  {
   "cell_type": "code",
   "execution_count": 270,
   "metadata": {},
   "outputs": [
    {
     "name": "stdout",
     "output_type": "stream",
     "text": [
      "accur with PCA, dim = 100 0.8762\n",
      "work time with PCA 250.2749719619751 sec\n"
     ]
    }
   ],
   "source": [
    "import time\n",
    "start_time = time.time()\n",
    "RFFP = RFFPipeline(use_PCA=True, new_dim = 100)\n",
    "RFFP.fit(x_train, y_train)\n",
    "a = RFFP.predict(x_test)\n",
    "t = time.time() - start_time\n",
    "print('accur with PCA, dim = 100', np.sum(a == y_test) / len(a))\n",
    "print('work time with PCA', t, 'sec')"
   ]
  },
  {
   "cell_type": "code",
   "execution_count": 208,
   "metadata": {},
   "outputs": [
    {
     "name": "stdout",
     "output_type": "stream",
     "text": [
      "accur without PCA 0.8565\n",
      "work time without PCA 289.294882774353 sec\n"
     ]
    }
   ],
   "source": [
    "start_time = time.time()\n",
    "RFFP = RFFPipeline(use_PCA=False)\n",
    "RFFP.fit(x_train, y_train)\n",
    "a = RFFP.predict(x_test)\n",
    "t = time.time() - start_time\n",
    "print('accur without PCA', np.sum(a == y_test) / len(a))\n",
    "print('work time without PCA', t, 'sec')"
   ]
  },
  {
   "cell_type": "markdown",
   "metadata": {},
   "source": [
    "При повышении размерности при new_dim = 100 b больше время обучения стремится к времени без понижения размерности. Различие точности небольшие, поэтому понижаьб протранство до небольших значений - выгодно по времени. и не критично по точности"
   ]
  },
  {
   "cell_type": "markdown",
   "metadata": {},
   "source": [
    "**2 вопрос, n_features**"
   ]
  },
  {
   "cell_type": "code",
   "execution_count": 213,
   "metadata": {},
   "outputs": [
    {
     "name": "stdout",
     "output_type": "stream",
     "text": [
      "i am working 200\n",
      "i am working 300\n",
      "i am working 400\n",
      "i am working 500\n",
      "i am working 600\n",
      "i am working 700\n",
      "i am working 800\n",
      "i am working 900\n",
      "i am working 1000\n",
      "i am working 1100\n",
      "i am working 1200\n",
      "i am working 1300\n",
      "i am working 1400\n",
      "i am working 1500\n",
      "i am working 1600\n",
      "i am working 1700\n",
      "i am working 1800\n",
      "i am working 1900\n",
      "i am working 2000\n",
      "i am working 2100\n",
      "i am working 2200\n",
      "i am working 2300\n",
      "i am working 2400\n",
      "i am working 2500\n",
      "i am working 2600\n",
      "i am working 2700\n",
      "i am working 2800\n",
      "i am working 2900\n",
      "i am working 3000\n",
      "i am working 3100\n",
      "i am working 3200\n"
     ]
    }
   ],
   "source": [
    "list_time = []\n",
    "list_of_accur_test = []\n",
    "list_of_accur_train = []\n",
    "list_of_features = [200, 300, 400, 500, 600, 700, 800, 900, 1000, 1100, 1200, 1300, 1400, 1500, 1600, 1700, 1800, 1900, 2000,\n",
    "                   2100, 2200, 2300, 2400, 2500, 2600, 2700, 2800, 2900, 3000, 3100, 3200]\n",
    "for i in list_of_features:\n",
    "    print('i am working', i)\n",
    "    RFFP = RFFPipeline(use_PCA=True, n_features = i)\n",
    "    RFFP.fit(x_train, y_train)\n",
    "    a = RFFP.predict(x_test)\n",
    "    t = time.time() - start_time\n",
    "    a2 = RFFP.predict(x_train)\n",
    "    list_time += [t]\n",
    "    list_of_accur_test += [np.sum(a == y_test) / len(a)]\n",
    "    list_of_accur_train += [np.sum(a2 == y_train) / len(a2)]"
   ]
  },
  {
   "cell_type": "code",
   "execution_count": null,
   "metadata": {},
   "outputs": [],
   "source": [
    "#list_time_train = []\n",
    "#list_of_accur_train = []\n",
    "#for i in list_of_features:\n",
    "#    if (i % 5 == 0):\n",
    "#        print('i am working', i)\n",
    "#    RFFP = RFFPipeline(use_PCA=True, n_features = i)\n",
    "#    RFFP.fit(x_train, y_train)\n",
    "#    a = RFFP.predict(x_train)\n",
    "#    t = time.time() - start_time\n",
    "#    list_time_train += [t]\n",
    "#    list_of_accur_train += [np.sum(a == y_train) / len(a)]"
   ]
  },
  {
   "cell_type": "code",
   "execution_count": 217,
   "metadata": {},
   "outputs": [
    {
     "data": {
      "image/png": "[encoded data removed]",
      "text/plain": [
       "<Figure size 720x576 with 1 Axes>"
      ]
     },
     "metadata": {
      "needs_background": "light"
     },
     "output_type": "display_data"
    }
   ],
   "source": [
    "from matplotlib import pyplot as plt\n",
    "fig, ax = plt.subplots(figsize = (10, 8))\n",
    "\n",
    "ax.plot(list_of_features, list_of_accur_train, color = 'r', label = 'train')\n",
    "ax.plot(list_of_features, list_of_accur_test, color = 'b', label = 'test')\n",
    "ax.set_ylabel('accur', size = 20)\n",
    "ax.set_xlabel('n_features', size = 20)\n",
    "ax.grid()\n",
    "ax.legend()\n",
    "#plt.xscale(\"log\")\n",
    "ax.set_title('Our realization logreg', size = 18)\n",
    "plt.show()"
   ]
  },
  {
   "cell_type": "code",
   "execution_count": 222,
   "metadata": {},
   "outputs": [
    {
     "data": {
      "text/plain": [
       "array([ 61.49869084,  75.09337163,  86.27753925, 103.34907818,\n",
       "       117.69691348, 126.21306062, 138.65777016, 147.34267282,\n",
       "       159.48532224, 174.22571731, 187.58397079, 201.63277864,\n",
       "       214.46745396, 237.62964392, 243.7098515 , 256.40898395,\n",
       "       270.02221823, 281.82588196, 293.11390114, 306.3023603 ,\n",
       "       321.56278086, 334.5541172 , 351.48508024, 355.72869635,\n",
       "       378.23961449, 393.15551829, 403.50651407, 413.02065134,\n",
       "       428.12172222, 452.85878778])"
      ]
     },
     "execution_count": 222,
     "metadata": {},
     "output_type": "execute_result"
    }
   ],
   "source": [
    "list_time_true = np.diff(list_time)\n",
    "list_time_true"
   ]
  },
  {
   "cell_type": "code",
   "execution_count": 223,
   "metadata": {},
   "outputs": [
    {
     "data": {
      "image/png": "[encoded data removed]",
      "text/plain": [
       "<Figure size 720x576 with 1 Axes>"
      ]
     },
     "metadata": {
      "needs_background": "light"
     },
     "output_type": "display_data"
    }
   ],
   "source": [
    "fig, ax = plt.subplots(figsize = (10, 8))\n",
    "\n",
    "ax.plot(list_of_features[:-1], list_time_true, color = 'g')\n",
    "ax.set_ylabel('время работы, сек.', size = 16)\n",
    "ax.set_xlabel('n_features', size = 16)\n",
    "ax.grid()\n",
    "#plt.xscale(\"log\")\n",
    "ax.set_title('Our realization logreg')\n",
    "#plt.savefig('C:/Users/User/Jupiter_notebook/task4_GB_nest_time1.pdf')\n",
    "plt.show()"
   ]
  },
  {
   "cell_type": "markdown",
   "metadata": {},
   "source": [
    "450 секунд - 7.5 минут\n",
    "\n",
    "Видно, что в какой-то момент точность выходит на плато, а время работы линейно повышается\n",
    "\n",
    "Из этого можно сделать вывод, что лучшие показатели получаются примерно при n_features = 1000 - 1500 признаков. \n",
    "\n",
    "При этих значениях у нас относительно хорошие показатели качества и при увеличении признаков качество улучшается незначительно относительно показателей времени"
   ]
  },
  {
   "cell_type": "markdown",
   "metadata": {},
   "source": [
    "**3. сравнение моделей**"
   ]
  },
  {
   "cell_type": "markdown",
   "metadata": {},
   "source": [
    "из прошлых экспериментов видно, что обе модели выдают примерно одинаковое качество, но SVM работал дольше, чем логистическая регрессия, его можно использовать, если нужен небольшой прирост к качеству и не так важны затраты по времени."
   ]
  },
  {
   "cell_type": "code",
   "execution_count": null,
   "metadata": {},
   "outputs": [],
   "source": []
  }
 ],
 "metadata": {
  "kernelspec": {
   "display_name": "Python 3",
   "language": "python",
   "name": "python3"
  },
  "language_info": {
   "codemirror_mode": {
    "name": "ipython",
    "version": 3
   },
   "file_extension": ".py",
   "mimetype": "text/x-python",
   "name": "python",
   "nbconvert_exporter": "python",
   "pygments_lexer": "ipython3",
   "version": "3.8.3"
  }
 },
 "nbformat": 4,
 "nbformat_minor": 4
}
